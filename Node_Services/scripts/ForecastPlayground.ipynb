{
 "cells": [
  {
   "cell_type": "code",
   "execution_count": 14,
   "metadata": {
    "scrolled": true
   },
   "outputs": [
    {
     "name": "stdout",
     "output_type": "stream",
     "text": [
      "Week 1: 109.000000\n",
      "Week 2: 117.000000\n",
      "Week 3: 111.000000\n",
      "Week 4: 112.000000\n",
      "Week 5: 113.000000\n",
      "Week 6: 114.000000\n",
      "Week 7: 115.000000\n",
      "Week 8: 116.000000\n",
      "Week 9: 117.000000\n",
      "Week 10: 118.000000\n",
      "Week 11: 119.000000\n",
      "Week 12: 120.000000\n",
      "Week 13: 121.000000\n",
      "Week 14: 122.000000\n",
      "Week 15: 123.000000\n",
      "Week 16: 124.000000\n",
      "Week 17: 125.000000\n",
      "Week 18: 126.000000\n",
      "Week 19: 127.000000\n",
      "Week 20: 128.000000\n",
      "Week 21: 129.000000\n",
      "Week 22: 130.000000\n",
      "Week 23: 131.000000\n",
      "Week 24: 132.000000\n",
      "Week 25: 133.000000\n",
      "Week 26: 134.000000\n",
      "Week 27: 135.000000\n",
      "Week 28: 136.000000\n",
      "Week 29: 137.000000\n",
      "Week 30: 138.000000\n",
      "Week 31: 139.000000\n",
      "Week 32: 140.000000\n",
      "Week 33: 141.000000\n",
      "Week 34: 142.000000\n",
      "Week 35: 143.000000\n",
      "Week 36: 144.000000\n",
      "Week 37: 145.000000\n",
      "Week 38: 146.000000\n",
      "Week 39: 147.000000\n",
      "Week 40: 148.000000\n",
      "Week 41: 149.000000\n",
      "Week 42: 150.000000\n",
      "Week 43: 151.000000\n",
      "Week 44: 152.000000\n",
      "Week 45: 153.000000\n",
      "Week 46: 154.000000\n",
      "Week 47: 155.000000\n",
      "Week 48: 156.000000\n",
      "Week 49: 157.000000\n",
      "Week 50: 158.000000\n",
      "Week 51: 159.000000\n",
      "Week 52: 160.000000\n",
      "[109.0, 117.0, 111.0, 112.0, 113.0, 114.0, 115.0, 116.0, 117.0, 118.0, 119.0, 120.0, 121.0, 122.0, 123.0, 124.0, 125.0, 126.0, 127.0, 128.0, 129.0, 130.0, 131.0, 132.0, 133.0, 134.0, 135.0, 136.0, 137.0, 138.0, 139.0, 140.0, 141.0, 142.0, 143.0, 144.0, 145.0, 146.0, 147.0, 148.0, 149.0, 150.0, 151.0, 152.0, 153.0, 154.0, 155.0, 156.0, 157.0, 158.0, 159.0, 160.0]\n"
     ]
    },
    {
     "name": "stderr",
     "output_type": "stream",
     "text": [
      "/usr/local/lib/python2.7/site-packages/statsmodels/base/model.py:492: HessianInversionWarning: Inverting hessian failed, no bse or cov_params available\n",
      "  'available', HessianInversionWarning)\n"
     ]
    }
   ],
   "source": [
    "from pandas import read_csv\n",
    "from statsmodels.tsa.arima_model import ARIMA\n",
    "import numpy\n",
    "\n",
    "# create a differenced series\n",
    "def difference(dataset, interval=1):\n",
    "    diff = list()\n",
    "    for i in range(interval, len(dataset)):\n",
    "        value = dataset[i] - dataset[i - interval]\n",
    "        #print(dataset[i])\n",
    "        diff.append(value)\n",
    "    return numpy.array(diff)\n",
    "\n",
    "# invert differenced value\n",
    "def inverse_difference(history, yhat, interval=1):\n",
    "\treturn yhat + history[-interval]\n",
    "\n",
    "series = read_csv('/Users/parnabbasak/Documents/workspace/Group3_Hackathon/Node_Services/uploads/sales_history.csv')\n",
    "#Filter dataframe by product\n",
    "filter_by_product_series = series[series['producct']==\"Brand A1-Phone\"]\n",
    "#print(filter_by_product_series)\n",
    "\n",
    "#Filter dataframe by attribute\n",
    "filter_by_product_and_aiitribute_series = filter_by_product_series[filter_by_product_series['attribute']==\"Net Unit\"]\n",
    "#print(filter_by_product_and_aiitribute_series)\n",
    "\n",
    "\n",
    "X = filter_by_product_and_aiitribute_series[\"quantity\"].tolist()\n",
    "#print(X)\n",
    "\n",
    "weeks_in_year = 52\n",
    "differenced = difference(X, weeks_in_year)\n",
    "# fit model\n",
    "model = ARIMA(differenced, order=(1,1,1))\n",
    "model_fit = model.fit(disp=0)\n",
    "# multi-step out-of-sample forecast\n",
    "forecast = model_fit.forecast(steps=52)[0]\n",
    "# invert the differenced forecast to something usable\n",
    "history = [x for x in X]\n",
    "#history\n",
    "week = 1\n",
    "predictions = []\n",
    "for yhat in forecast:\n",
    "    inverted = inverse_difference(history, yhat, weeks_in_year)\n",
    "    print('Week %d: %f' % (week, inverted))\n",
    "    history.append(inverted)\n",
    "    predictions.append(inverted)\n",
    "    week += 1\n",
    "\n",
    "print(predictions)\n"
   ]
  },
  {
   "cell_type": "code",
   "execution_count": 70,
   "metadata": {},
   "outputs": [
    {
     "name": "stdout",
     "output_type": "stream",
     "text": [
      "2019-12-30 00:00:00\n",
      "2020-01-05 00:00:00\n"
     ]
    }
   ],
   "source": [
    "from datetime import datetime, timedelta\n",
    " \n",
    "date_str = '2020-01-01'\n",
    "date_obj = datetime.strptime(date_str, '%Y-%m-%d')\n",
    " \n",
    "start_of_week = date_obj - timedelta(days=date_obj.weekday())  # Monday\n",
    "end_of_week = start_of_week + timedelta(days=6)  # Sunday\n",
    "print(start_of_week)\n",
    "print(end_of_week)"
   ]
  },
  {
   "cell_type": "code",
   "execution_count": 6,
   "metadata": {
    "scrolled": true
   },
   "outputs": [
    {
     "name": "stdout",
     "output_type": "stream",
     "text": [
      "[{'attribute': 'ATTRIB', 'producct': 'productA', 'saleDate': '06/Jan/2020', '_id': ObjectId('5dc3e3d314abcebce50f4e5f'), 'channel': 'Channel1', 'quantity': 1}, {'attribute': 'ATTRIB', 'producct': 'productA', 'saleDate': '13/Jan/2020', '_id': ObjectId('5dc3e3d314abcebce50f4e60'), 'channel': 'Channel1', 'quantity': 2}, {'attribute': 'ATTRIB', 'producct': 'productA', 'saleDate': '20/Jan/2020', '_id': ObjectId('5dc3e3d314abcebce50f4e61'), 'channel': 'Channel1', 'quantity': 3}, {'attribute': 'ATTRIB', 'producct': 'productA', 'saleDate': '27/Jan/2020', '_id': ObjectId('5dc3e3d314abcebce50f4e62'), 'channel': 'Channel1', 'quantity': 4}, {'attribute': 'ATTRIB', 'producct': 'productA', 'saleDate': '03/Feb/2020', '_id': ObjectId('5dc3e3d314abcebce50f4e63'), 'channel': 'Channel1', 'quantity': 5}, {'attribute': 'ATTRIB', 'producct': 'productA', 'saleDate': '10/Feb/2020', '_id': ObjectId('5dc3e3d314abcebce50f4e64'), 'channel': 'Channel1', 'quantity': 6}, {'attribute': 'ATTRIB', 'producct': 'productA', 'saleDate': '17/Feb/2020', '_id': ObjectId('5dc3e3d314abcebce50f4e65'), 'channel': 'Channel1', 'quantity': 7}, {'attribute': 'ATTRIB', 'producct': 'productA', 'saleDate': '24/Feb/2020', '_id': ObjectId('5dc3e3d314abcebce50f4e66'), 'channel': 'Channel1', 'quantity': 8}, {'attribute': 'ATTRIB', 'producct': 'productA', 'saleDate': '02/Mar/2020', '_id': ObjectId('5dc3e3d314abcebce50f4e67'), 'channel': 'Channel1', 'quantity': 9}, {'attribute': 'ATTRIB', 'producct': 'productA', 'saleDate': '09/Mar/2020', '_id': ObjectId('5dc3e3d314abcebce50f4e68'), 'channel': 'Channel1', 'quantity': 10}, {'attribute': 'ATTRIB', 'producct': 'productA', 'saleDate': '16/Mar/2020', '_id': ObjectId('5dc3e3d314abcebce50f4e69'), 'channel': 'Channel1', 'quantity': 11}, {'attribute': 'ATTRIB', 'producct': 'productA', 'saleDate': '23/Mar/2020', '_id': ObjectId('5dc3e3d314abcebce50f4e6a'), 'channel': 'Channel1', 'quantity': 12}, {'attribute': 'ATTRIB', 'producct': 'productA', 'saleDate': '30/Mar/2020', '_id': ObjectId('5dc3e3d314abcebce50f4e6b'), 'channel': 'Channel1', 'quantity': 13}, {'attribute': 'ATTRIB', 'producct': 'productA', 'saleDate': '06/Apr/2020', '_id': ObjectId('5dc3e3d314abcebce50f4e6c'), 'channel': 'Channel1', 'quantity': 14}, {'attribute': 'ATTRIB', 'producct': 'productA', 'saleDate': '13/Apr/2020', '_id': ObjectId('5dc3e3d314abcebce50f4e6d'), 'channel': 'Channel1', 'quantity': 15}, {'attribute': 'ATTRIB', 'producct': 'productA', 'saleDate': '20/Apr/2020', '_id': ObjectId('5dc3e3d314abcebce50f4e6e'), 'channel': 'Channel1', 'quantity': 16}, {'attribute': 'ATTRIB', 'producct': 'productA', 'saleDate': '27/Apr/2020', '_id': ObjectId('5dc3e3d314abcebce50f4e6f'), 'channel': 'Channel1', 'quantity': 17}, {'attribute': 'ATTRIB', 'producct': 'productA', 'saleDate': '04/May/2020', '_id': ObjectId('5dc3e3d314abcebce50f4e70'), 'channel': 'Channel1', 'quantity': 18}, {'attribute': 'ATTRIB', 'producct': 'productA', 'saleDate': '11/May/2020', '_id': ObjectId('5dc3e3d314abcebce50f4e71'), 'channel': 'Channel1', 'quantity': 19}, {'attribute': 'ATTRIB', 'producct': 'productA', 'saleDate': '18/May/2020', '_id': ObjectId('5dc3e3d314abcebce50f4e72'), 'channel': 'Channel1', 'quantity': 20}, {'attribute': 'ATTRIB', 'producct': 'productA', 'saleDate': '25/May/2020', '_id': ObjectId('5dc3e3d314abcebce50f4e73'), 'channel': 'Channel1', 'quantity': 21}, {'attribute': 'ATTRIB', 'producct': 'productA', 'saleDate': '01/Jun/2020', '_id': ObjectId('5dc3e3d314abcebce50f4e74'), 'channel': 'Channel1', 'quantity': 22}, {'attribute': 'ATTRIB', 'producct': 'productA', 'saleDate': '08/Jun/2020', '_id': ObjectId('5dc3e3d314abcebce50f4e75'), 'channel': 'Channel1', 'quantity': 23}, {'attribute': 'ATTRIB', 'producct': 'productA', 'saleDate': '15/Jun/2020', '_id': ObjectId('5dc3e3d314abcebce50f4e76'), 'channel': 'Channel1', 'quantity': 24}, {'attribute': 'ATTRIB', 'producct': 'productA', 'saleDate': '22/Jun/2020', '_id': ObjectId('5dc3e3d314abcebce50f4e77'), 'channel': 'Channel1', 'quantity': 25}, {'attribute': 'ATTRIB', 'producct': 'productA', 'saleDate': '29/Jun/2020', '_id': ObjectId('5dc3e3d314abcebce50f4e78'), 'channel': 'Channel1', 'quantity': 26}, {'attribute': 'ATTRIB', 'producct': 'productA', 'saleDate': '06/Jul/2020', '_id': ObjectId('5dc3e3d314abcebce50f4e79'), 'channel': 'Channel1', 'quantity': 27}, {'attribute': 'ATTRIB', 'producct': 'productA', 'saleDate': '13/Jul/2020', '_id': ObjectId('5dc3e3d314abcebce50f4e7a'), 'channel': 'Channel1', 'quantity': 28}, {'attribute': 'ATTRIB', 'producct': 'productA', 'saleDate': '20/Jul/2020', '_id': ObjectId('5dc3e3d314abcebce50f4e7b'), 'channel': 'Channel1', 'quantity': 29}, {'attribute': 'ATTRIB', 'producct': 'productA', 'saleDate': '27/Jul/2020', '_id': ObjectId('5dc3e3d314abcebce50f4e7c'), 'channel': 'Channel1', 'quantity': 30}, {'attribute': 'ATTRIB', 'producct': 'productA', 'saleDate': '03/Aug/2020', '_id': ObjectId('5dc3e3d314abcebce50f4e7d'), 'channel': 'Channel1', 'quantity': 31}, {'attribute': 'ATTRIB', 'producct': 'productA', 'saleDate': '10/Aug/2020', '_id': ObjectId('5dc3e3d314abcebce50f4e7e'), 'channel': 'Channel1', 'quantity': 32}, {'attribute': 'ATTRIB', 'producct': 'productA', 'saleDate': '17/Aug/2020', '_id': ObjectId('5dc3e3d314abcebce50f4e7f'), 'channel': 'Channel1', 'quantity': 33}, {'attribute': 'ATTRIB', 'producct': 'productA', 'saleDate': '24/Aug/2020', '_id': ObjectId('5dc3e3d314abcebce50f4e80'), 'channel': 'Channel1', 'quantity': 34}, {'attribute': 'ATTRIB', 'producct': 'productA', 'saleDate': '31/Aug/2020', '_id': ObjectId('5dc3e3d314abcebce50f4e81'), 'channel': 'Channel1', 'quantity': 35}, {'attribute': 'ATTRIB', 'producct': 'productA', 'saleDate': '07/Sep/2020', '_id': ObjectId('5dc3e3d314abcebce50f4e82'), 'channel': 'Channel1', 'quantity': 36}, {'attribute': 'ATTRIB', 'producct': 'productA', 'saleDate': '14/Sep/2020', '_id': ObjectId('5dc3e3d314abcebce50f4e83'), 'channel': 'Channel1', 'quantity': 37}, {'attribute': 'ATTRIB', 'producct': 'productA', 'saleDate': '21/Sep/2020', '_id': ObjectId('5dc3e3d314abcebce50f4e84'), 'channel': 'Channel1', 'quantity': 38}, {'attribute': 'ATTRIB', 'producct': 'productA', 'saleDate': '28/Sep/2020', '_id': ObjectId('5dc3e3d314abcebce50f4e85'), 'channel': 'Channel1', 'quantity': 39}, {'attribute': 'ATTRIB', 'producct': 'productA', 'saleDate': '05/Oct/2020', '_id': ObjectId('5dc3e3d314abcebce50f4e86'), 'channel': 'Channel1', 'quantity': 40}, {'attribute': 'ATTRIB', 'producct': 'productA', 'saleDate': '12/Oct/2020', '_id': ObjectId('5dc3e3d314abcebce50f4e87'), 'channel': 'Channel1', 'quantity': 41}, {'attribute': 'ATTRIB', 'producct': 'productA', 'saleDate': '19/Oct/2020', '_id': ObjectId('5dc3e3d314abcebce50f4e88'), 'channel': 'Channel1', 'quantity': 42}, {'attribute': 'ATTRIB', 'producct': 'productA', 'saleDate': '26/Oct/2020', '_id': ObjectId('5dc3e3d314abcebce50f4e89'), 'channel': 'Channel1', 'quantity': 43}, {'attribute': 'ATTRIB', 'producct': 'productA', 'saleDate': '02/Nov/2020', '_id': ObjectId('5dc3e3d314abcebce50f4e8a'), 'channel': 'Channel1', 'quantity': 44}, {'attribute': 'ATTRIB', 'producct': 'productA', 'saleDate': '09/Nov/2020', '_id': ObjectId('5dc3e3d314abcebce50f4e8b'), 'channel': 'Channel1', 'quantity': 45}, {'attribute': 'ATTRIB', 'producct': 'productA', 'saleDate': '16/Nov/2020', '_id': ObjectId('5dc3e3d314abcebce50f4e8c'), 'channel': 'Channel1', 'quantity': 46}, {'attribute': 'ATTRIB', 'producct': 'productA', 'saleDate': '23/Nov/2020', '_id': ObjectId('5dc3e3d314abcebce50f4e8d'), 'channel': 'Channel1', 'quantity': 47}, {'attribute': 'ATTRIB', 'producct': 'productA', 'saleDate': '30/Nov/2020', '_id': ObjectId('5dc3e3d314abcebce50f4e8e'), 'channel': 'Channel1', 'quantity': 48}, {'attribute': 'ATTRIB', 'producct': 'productA', 'saleDate': '07/Dec/2020', '_id': ObjectId('5dc3e3d314abcebce50f4e8f'), 'channel': 'Channel1', 'quantity': 49}, {'attribute': 'ATTRIB', 'producct': 'productA', 'saleDate': '14/Dec/2020', '_id': ObjectId('5dc3e3d314abcebce50f4e90'), 'channel': 'Channel1', 'quantity': 50}, {'attribute': 'ATTRIB', 'producct': 'productA', 'saleDate': '21/Dec/2020', '_id': ObjectId('5dc3e3d314abcebce50f4e91'), 'channel': 'Channel1', 'quantity': 51}, {'attribute': 'ATTRIB', 'producct': 'productA', 'saleDate': '28/Dec/2020', '_id': ObjectId('5dc3e3d314abcebce50f4e92'), 'channel': 'Channel1', 'quantity': 52}]\n",
      "----Inserted x.inserted_ids elements in the  collection------------------------------------------------------\n",
      "[{'attribute': 'ATTRIB', 'producct': 'productB', 'saleDate': '06/Jan/2020', '_id': ObjectId('5dc3e3d414abcebce50f4e93'), 'channel': 'Channel1', 'quantity': 1}, {'attribute': 'ATTRIB', 'producct': 'productB', 'saleDate': '13/Jan/2020', '_id': ObjectId('5dc3e3d414abcebce50f4e94'), 'channel': 'Channel1', 'quantity': 2}, {'attribute': 'ATTRIB', 'producct': 'productB', 'saleDate': '20/Jan/2020', '_id': ObjectId('5dc3e3d414abcebce50f4e95'), 'channel': 'Channel1', 'quantity': 3}, {'attribute': 'ATTRIB', 'producct': 'productB', 'saleDate': '27/Jan/2020', '_id': ObjectId('5dc3e3d414abcebce50f4e96'), 'channel': 'Channel1', 'quantity': 4}, {'attribute': 'ATTRIB', 'producct': 'productB', 'saleDate': '03/Feb/2020', '_id': ObjectId('5dc3e3d414abcebce50f4e97'), 'channel': 'Channel1', 'quantity': 5}, {'attribute': 'ATTRIB', 'producct': 'productB', 'saleDate': '10/Feb/2020', '_id': ObjectId('5dc3e3d414abcebce50f4e98'), 'channel': 'Channel1', 'quantity': 6}, {'attribute': 'ATTRIB', 'producct': 'productB', 'saleDate': '17/Feb/2020', '_id': ObjectId('5dc3e3d414abcebce50f4e99'), 'channel': 'Channel1', 'quantity': 7}, {'attribute': 'ATTRIB', 'producct': 'productB', 'saleDate': '24/Feb/2020', '_id': ObjectId('5dc3e3d414abcebce50f4e9a'), 'channel': 'Channel1', 'quantity': 8}, {'attribute': 'ATTRIB', 'producct': 'productB', 'saleDate': '02/Mar/2020', '_id': ObjectId('5dc3e3d414abcebce50f4e9b'), 'channel': 'Channel1', 'quantity': 9}, {'attribute': 'ATTRIB', 'producct': 'productB', 'saleDate': '09/Mar/2020', '_id': ObjectId('5dc3e3d414abcebce50f4e9c'), 'channel': 'Channel1', 'quantity': 10}, {'attribute': 'ATTRIB', 'producct': 'productB', 'saleDate': '16/Mar/2020', '_id': ObjectId('5dc3e3d414abcebce50f4e9d'), 'channel': 'Channel1', 'quantity': 11}, {'attribute': 'ATTRIB', 'producct': 'productB', 'saleDate': '23/Mar/2020', '_id': ObjectId('5dc3e3d414abcebce50f4e9e'), 'channel': 'Channel1', 'quantity': 12}, {'attribute': 'ATTRIB', 'producct': 'productB', 'saleDate': '30/Mar/2020', '_id': ObjectId('5dc3e3d414abcebce50f4e9f'), 'channel': 'Channel1', 'quantity': 13}, {'attribute': 'ATTRIB', 'producct': 'productB', 'saleDate': '06/Apr/2020', '_id': ObjectId('5dc3e3d414abcebce50f4ea0'), 'channel': 'Channel1', 'quantity': 14}, {'attribute': 'ATTRIB', 'producct': 'productB', 'saleDate': '13/Apr/2020', '_id': ObjectId('5dc3e3d414abcebce50f4ea1'), 'channel': 'Channel1', 'quantity': 15}, {'attribute': 'ATTRIB', 'producct': 'productB', 'saleDate': '20/Apr/2020', '_id': ObjectId('5dc3e3d414abcebce50f4ea2'), 'channel': 'Channel1', 'quantity': 16}, {'attribute': 'ATTRIB', 'producct': 'productB', 'saleDate': '27/Apr/2020', '_id': ObjectId('5dc3e3d414abcebce50f4ea3'), 'channel': 'Channel1', 'quantity': 17}, {'attribute': 'ATTRIB', 'producct': 'productB', 'saleDate': '04/May/2020', '_id': ObjectId('5dc3e3d414abcebce50f4ea4'), 'channel': 'Channel1', 'quantity': 18}, {'attribute': 'ATTRIB', 'producct': 'productB', 'saleDate': '11/May/2020', '_id': ObjectId('5dc3e3d414abcebce50f4ea5'), 'channel': 'Channel1', 'quantity': 19}, {'attribute': 'ATTRIB', 'producct': 'productB', 'saleDate': '18/May/2020', '_id': ObjectId('5dc3e3d414abcebce50f4ea6'), 'channel': 'Channel1', 'quantity': 20}, {'attribute': 'ATTRIB', 'producct': 'productB', 'saleDate': '25/May/2020', '_id': ObjectId('5dc3e3d414abcebce50f4ea7'), 'channel': 'Channel1', 'quantity': 21}, {'attribute': 'ATTRIB', 'producct': 'productB', 'saleDate': '01/Jun/2020', '_id': ObjectId('5dc3e3d414abcebce50f4ea8'), 'channel': 'Channel1', 'quantity': 22}, {'attribute': 'ATTRIB', 'producct': 'productB', 'saleDate': '08/Jun/2020', '_id': ObjectId('5dc3e3d414abcebce50f4ea9'), 'channel': 'Channel1', 'quantity': 23}, {'attribute': 'ATTRIB', 'producct': 'productB', 'saleDate': '15/Jun/2020', '_id': ObjectId('5dc3e3d414abcebce50f4eaa'), 'channel': 'Channel1', 'quantity': 24}, {'attribute': 'ATTRIB', 'producct': 'productB', 'saleDate': '22/Jun/2020', '_id': ObjectId('5dc3e3d414abcebce50f4eab'), 'channel': 'Channel1', 'quantity': 25}, {'attribute': 'ATTRIB', 'producct': 'productB', 'saleDate': '29/Jun/2020', '_id': ObjectId('5dc3e3d414abcebce50f4eac'), 'channel': 'Channel1', 'quantity': 26}, {'attribute': 'ATTRIB', 'producct': 'productB', 'saleDate': '06/Jul/2020', '_id': ObjectId('5dc3e3d414abcebce50f4ead'), 'channel': 'Channel1', 'quantity': 27}, {'attribute': 'ATTRIB', 'producct': 'productB', 'saleDate': '13/Jul/2020', '_id': ObjectId('5dc3e3d414abcebce50f4eae'), 'channel': 'Channel1', 'quantity': 28}, {'attribute': 'ATTRIB', 'producct': 'productB', 'saleDate': '20/Jul/2020', '_id': ObjectId('5dc3e3d414abcebce50f4eaf'), 'channel': 'Channel1', 'quantity': 29}, {'attribute': 'ATTRIB', 'producct': 'productB', 'saleDate': '27/Jul/2020', '_id': ObjectId('5dc3e3d414abcebce50f4eb0'), 'channel': 'Channel1', 'quantity': 30}, {'attribute': 'ATTRIB', 'producct': 'productB', 'saleDate': '03/Aug/2020', '_id': ObjectId('5dc3e3d414abcebce50f4eb1'), 'channel': 'Channel1', 'quantity': 31}, {'attribute': 'ATTRIB', 'producct': 'productB', 'saleDate': '10/Aug/2020', '_id': ObjectId('5dc3e3d414abcebce50f4eb2'), 'channel': 'Channel1', 'quantity': 32}, {'attribute': 'ATTRIB', 'producct': 'productB', 'saleDate': '17/Aug/2020', '_id': ObjectId('5dc3e3d414abcebce50f4eb3'), 'channel': 'Channel1', 'quantity': 33}, {'attribute': 'ATTRIB', 'producct': 'productB', 'saleDate': '24/Aug/2020', '_id': ObjectId('5dc3e3d414abcebce50f4eb4'), 'channel': 'Channel1', 'quantity': 34}, {'attribute': 'ATTRIB', 'producct': 'productB', 'saleDate': '31/Aug/2020', '_id': ObjectId('5dc3e3d414abcebce50f4eb5'), 'channel': 'Channel1', 'quantity': 35}, {'attribute': 'ATTRIB', 'producct': 'productB', 'saleDate': '07/Sep/2020', '_id': ObjectId('5dc3e3d414abcebce50f4eb6'), 'channel': 'Channel1', 'quantity': 36}, {'attribute': 'ATTRIB', 'producct': 'productB', 'saleDate': '14/Sep/2020', '_id': ObjectId('5dc3e3d414abcebce50f4eb7'), 'channel': 'Channel1', 'quantity': 37}, {'attribute': 'ATTRIB', 'producct': 'productB', 'saleDate': '21/Sep/2020', '_id': ObjectId('5dc3e3d414abcebce50f4eb8'), 'channel': 'Channel1', 'quantity': 38}, {'attribute': 'ATTRIB', 'producct': 'productB', 'saleDate': '28/Sep/2020', '_id': ObjectId('5dc3e3d414abcebce50f4eb9'), 'channel': 'Channel1', 'quantity': 39}, {'attribute': 'ATTRIB', 'producct': 'productB', 'saleDate': '05/Oct/2020', '_id': ObjectId('5dc3e3d414abcebce50f4eba'), 'channel': 'Channel1', 'quantity': 40}, {'attribute': 'ATTRIB', 'producct': 'productB', 'saleDate': '12/Oct/2020', '_id': ObjectId('5dc3e3d414abcebce50f4ebb'), 'channel': 'Channel1', 'quantity': 41}, {'attribute': 'ATTRIB', 'producct': 'productB', 'saleDate': '19/Oct/2020', '_id': ObjectId('5dc3e3d414abcebce50f4ebc'), 'channel': 'Channel1', 'quantity': 42}, {'attribute': 'ATTRIB', 'producct': 'productB', 'saleDate': '26/Oct/2020', '_id': ObjectId('5dc3e3d414abcebce50f4ebd'), 'channel': 'Channel1', 'quantity': 43}, {'attribute': 'ATTRIB', 'producct': 'productB', 'saleDate': '02/Nov/2020', '_id': ObjectId('5dc3e3d414abcebce50f4ebe'), 'channel': 'Channel1', 'quantity': 44}, {'attribute': 'ATTRIB', 'producct': 'productB', 'saleDate': '09/Nov/2020', '_id': ObjectId('5dc3e3d414abcebce50f4ebf'), 'channel': 'Channel1', 'quantity': 45}, {'attribute': 'ATTRIB', 'producct': 'productB', 'saleDate': '16/Nov/2020', '_id': ObjectId('5dc3e3d414abcebce50f4ec0'), 'channel': 'Channel1', 'quantity': 46}, {'attribute': 'ATTRIB', 'producct': 'productB', 'saleDate': '23/Nov/2020', '_id': ObjectId('5dc3e3d414abcebce50f4ec1'), 'channel': 'Channel1', 'quantity': 47}, {'attribute': 'ATTRIB', 'producct': 'productB', 'saleDate': '30/Nov/2020', '_id': ObjectId('5dc3e3d414abcebce50f4ec2'), 'channel': 'Channel1', 'quantity': 48}, {'attribute': 'ATTRIB', 'producct': 'productB', 'saleDate': '07/Dec/2020', '_id': ObjectId('5dc3e3d414abcebce50f4ec3'), 'channel': 'Channel1', 'quantity': 49}, {'attribute': 'ATTRIB', 'producct': 'productB', 'saleDate': '14/Dec/2020', '_id': ObjectId('5dc3e3d414abcebce50f4ec4'), 'channel': 'Channel1', 'quantity': 50}, {'attribute': 'ATTRIB', 'producct': 'productB', 'saleDate': '21/Dec/2020', '_id': ObjectId('5dc3e3d414abcebce50f4ec5'), 'channel': 'Channel1', 'quantity': 51}, {'attribute': 'ATTRIB', 'producct': 'productB', 'saleDate': '28/Dec/2020', '_id': ObjectId('5dc3e3d414abcebce50f4ec6'), 'channel': 'Channel1', 'quantity': 52}]\n",
      "----Inserted x.inserted_ids elements in the  collection------------------------------------------------------\n",
      "[{'attribute': 'ATTRIB', 'producct': 'productA', 'saleDate': '06/Jan/2020', '_id': ObjectId('5dc3e3d414abcebce50f4ec7'), 'channel': 'Channel2', 'quantity': 1}, {'attribute': 'ATTRIB', 'producct': 'productA', 'saleDate': '13/Jan/2020', '_id': ObjectId('5dc3e3d414abcebce50f4ec8'), 'channel': 'Channel2', 'quantity': 2}, {'attribute': 'ATTRIB', 'producct': 'productA', 'saleDate': '20/Jan/2020', '_id': ObjectId('5dc3e3d414abcebce50f4ec9'), 'channel': 'Channel2', 'quantity': 3}, {'attribute': 'ATTRIB', 'producct': 'productA', 'saleDate': '27/Jan/2020', '_id': ObjectId('5dc3e3d414abcebce50f4eca'), 'channel': 'Channel2', 'quantity': 4}, {'attribute': 'ATTRIB', 'producct': 'productA', 'saleDate': '03/Feb/2020', '_id': ObjectId('5dc3e3d414abcebce50f4ecb'), 'channel': 'Channel2', 'quantity': 5}, {'attribute': 'ATTRIB', 'producct': 'productA', 'saleDate': '10/Feb/2020', '_id': ObjectId('5dc3e3d414abcebce50f4ecc'), 'channel': 'Channel2', 'quantity': 6}, {'attribute': 'ATTRIB', 'producct': 'productA', 'saleDate': '17/Feb/2020', '_id': ObjectId('5dc3e3d414abcebce50f4ecd'), 'channel': 'Channel2', 'quantity': 7}, {'attribute': 'ATTRIB', 'producct': 'productA', 'saleDate': '24/Feb/2020', '_id': ObjectId('5dc3e3d414abcebce50f4ece'), 'channel': 'Channel2', 'quantity': 8}, {'attribute': 'ATTRIB', 'producct': 'productA', 'saleDate': '02/Mar/2020', '_id': ObjectId('5dc3e3d414abcebce50f4ecf'), 'channel': 'Channel2', 'quantity': 9}, {'attribute': 'ATTRIB', 'producct': 'productA', 'saleDate': '09/Mar/2020', '_id': ObjectId('5dc3e3d414abcebce50f4ed0'), 'channel': 'Channel2', 'quantity': 10}, {'attribute': 'ATTRIB', 'producct': 'productA', 'saleDate': '16/Mar/2020', '_id': ObjectId('5dc3e3d414abcebce50f4ed1'), 'channel': 'Channel2', 'quantity': 11}, {'attribute': 'ATTRIB', 'producct': 'productA', 'saleDate': '23/Mar/2020', '_id': ObjectId('5dc3e3d414abcebce50f4ed2'), 'channel': 'Channel2', 'quantity': 12}, {'attribute': 'ATTRIB', 'producct': 'productA', 'saleDate': '30/Mar/2020', '_id': ObjectId('5dc3e3d414abcebce50f4ed3'), 'channel': 'Channel2', 'quantity': 13}, {'attribute': 'ATTRIB', 'producct': 'productA', 'saleDate': '06/Apr/2020', '_id': ObjectId('5dc3e3d414abcebce50f4ed4'), 'channel': 'Channel2', 'quantity': 14}, {'attribute': 'ATTRIB', 'producct': 'productA', 'saleDate': '13/Apr/2020', '_id': ObjectId('5dc3e3d414abcebce50f4ed5'), 'channel': 'Channel2', 'quantity': 15}, {'attribute': 'ATTRIB', 'producct': 'productA', 'saleDate': '20/Apr/2020', '_id': ObjectId('5dc3e3d414abcebce50f4ed6'), 'channel': 'Channel2', 'quantity': 16}, {'attribute': 'ATTRIB', 'producct': 'productA', 'saleDate': '27/Apr/2020', '_id': ObjectId('5dc3e3d414abcebce50f4ed7'), 'channel': 'Channel2', 'quantity': 17}, {'attribute': 'ATTRIB', 'producct': 'productA', 'saleDate': '04/May/2020', '_id': ObjectId('5dc3e3d414abcebce50f4ed8'), 'channel': 'Channel2', 'quantity': 18}, {'attribute': 'ATTRIB', 'producct': 'productA', 'saleDate': '11/May/2020', '_id': ObjectId('5dc3e3d414abcebce50f4ed9'), 'channel': 'Channel2', 'quantity': 19}, {'attribute': 'ATTRIB', 'producct': 'productA', 'saleDate': '18/May/2020', '_id': ObjectId('5dc3e3d414abcebce50f4eda'), 'channel': 'Channel2', 'quantity': 20}, {'attribute': 'ATTRIB', 'producct': 'productA', 'saleDate': '25/May/2020', '_id': ObjectId('5dc3e3d414abcebce50f4edb'), 'channel': 'Channel2', 'quantity': 21}, {'attribute': 'ATTRIB', 'producct': 'productA', 'saleDate': '01/Jun/2020', '_id': ObjectId('5dc3e3d414abcebce50f4edc'), 'channel': 'Channel2', 'quantity': 22}, {'attribute': 'ATTRIB', 'producct': 'productA', 'saleDate': '08/Jun/2020', '_id': ObjectId('5dc3e3d414abcebce50f4edd'), 'channel': 'Channel2', 'quantity': 23}, {'attribute': 'ATTRIB', 'producct': 'productA', 'saleDate': '15/Jun/2020', '_id': ObjectId('5dc3e3d414abcebce50f4ede'), 'channel': 'Channel2', 'quantity': 24}, {'attribute': 'ATTRIB', 'producct': 'productA', 'saleDate': '22/Jun/2020', '_id': ObjectId('5dc3e3d414abcebce50f4edf'), 'channel': 'Channel2', 'quantity': 25}, {'attribute': 'ATTRIB', 'producct': 'productA', 'saleDate': '29/Jun/2020', '_id': ObjectId('5dc3e3d414abcebce50f4ee0'), 'channel': 'Channel2', 'quantity': 26}, {'attribute': 'ATTRIB', 'producct': 'productA', 'saleDate': '06/Jul/2020', '_id': ObjectId('5dc3e3d414abcebce50f4ee1'), 'channel': 'Channel2', 'quantity': 27}, {'attribute': 'ATTRIB', 'producct': 'productA', 'saleDate': '13/Jul/2020', '_id': ObjectId('5dc3e3d414abcebce50f4ee2'), 'channel': 'Channel2', 'quantity': 28}, {'attribute': 'ATTRIB', 'producct': 'productA', 'saleDate': '20/Jul/2020', '_id': ObjectId('5dc3e3d414abcebce50f4ee3'), 'channel': 'Channel2', 'quantity': 29}, {'attribute': 'ATTRIB', 'producct': 'productA', 'saleDate': '27/Jul/2020', '_id': ObjectId('5dc3e3d414abcebce50f4ee4'), 'channel': 'Channel2', 'quantity': 30}, {'attribute': 'ATTRIB', 'producct': 'productA', 'saleDate': '03/Aug/2020', '_id': ObjectId('5dc3e3d414abcebce50f4ee5'), 'channel': 'Channel2', 'quantity': 31}, {'attribute': 'ATTRIB', 'producct': 'productA', 'saleDate': '10/Aug/2020', '_id': ObjectId('5dc3e3d414abcebce50f4ee6'), 'channel': 'Channel2', 'quantity': 32}, {'attribute': 'ATTRIB', 'producct': 'productA', 'saleDate': '17/Aug/2020', '_id': ObjectId('5dc3e3d414abcebce50f4ee7'), 'channel': 'Channel2', 'quantity': 33}, {'attribute': 'ATTRIB', 'producct': 'productA', 'saleDate': '24/Aug/2020', '_id': ObjectId('5dc3e3d414abcebce50f4ee8'), 'channel': 'Channel2', 'quantity': 34}, {'attribute': 'ATTRIB', 'producct': 'productA', 'saleDate': '31/Aug/2020', '_id': ObjectId('5dc3e3d414abcebce50f4ee9'), 'channel': 'Channel2', 'quantity': 35}, {'attribute': 'ATTRIB', 'producct': 'productA', 'saleDate': '07/Sep/2020', '_id': ObjectId('5dc3e3d414abcebce50f4eea'), 'channel': 'Channel2', 'quantity': 36}, {'attribute': 'ATTRIB', 'producct': 'productA', 'saleDate': '14/Sep/2020', '_id': ObjectId('5dc3e3d414abcebce50f4eeb'), 'channel': 'Channel2', 'quantity': 37}, {'attribute': 'ATTRIB', 'producct': 'productA', 'saleDate': '21/Sep/2020', '_id': ObjectId('5dc3e3d414abcebce50f4eec'), 'channel': 'Channel2', 'quantity': 38}, {'attribute': 'ATTRIB', 'producct': 'productA', 'saleDate': '28/Sep/2020', '_id': ObjectId('5dc3e3d414abcebce50f4eed'), 'channel': 'Channel2', 'quantity': 39}, {'attribute': 'ATTRIB', 'producct': 'productA', 'saleDate': '05/Oct/2020', '_id': ObjectId('5dc3e3d414abcebce50f4eee'), 'channel': 'Channel2', 'quantity': 40}, {'attribute': 'ATTRIB', 'producct': 'productA', 'saleDate': '12/Oct/2020', '_id': ObjectId('5dc3e3d414abcebce50f4eef'), 'channel': 'Channel2', 'quantity': 41}, {'attribute': 'ATTRIB', 'producct': 'productA', 'saleDate': '19/Oct/2020', '_id': ObjectId('5dc3e3d414abcebce50f4ef0'), 'channel': 'Channel2', 'quantity': 42}, {'attribute': 'ATTRIB', 'producct': 'productA', 'saleDate': '26/Oct/2020', '_id': ObjectId('5dc3e3d414abcebce50f4ef1'), 'channel': 'Channel2', 'quantity': 43}, {'attribute': 'ATTRIB', 'producct': 'productA', 'saleDate': '02/Nov/2020', '_id': ObjectId('5dc3e3d414abcebce50f4ef2'), 'channel': 'Channel2', 'quantity': 44}, {'attribute': 'ATTRIB', 'producct': 'productA', 'saleDate': '09/Nov/2020', '_id': ObjectId('5dc3e3d414abcebce50f4ef3'), 'channel': 'Channel2', 'quantity': 45}, {'attribute': 'ATTRIB', 'producct': 'productA', 'saleDate': '16/Nov/2020', '_id': ObjectId('5dc3e3d414abcebce50f4ef4'), 'channel': 'Channel2', 'quantity': 46}, {'attribute': 'ATTRIB', 'producct': 'productA', 'saleDate': '23/Nov/2020', '_id': ObjectId('5dc3e3d414abcebce50f4ef5'), 'channel': 'Channel2', 'quantity': 47}, {'attribute': 'ATTRIB', 'producct': 'productA', 'saleDate': '30/Nov/2020', '_id': ObjectId('5dc3e3d414abcebce50f4ef6'), 'channel': 'Channel2', 'quantity': 48}, {'attribute': 'ATTRIB', 'producct': 'productA', 'saleDate': '07/Dec/2020', '_id': ObjectId('5dc3e3d414abcebce50f4ef7'), 'channel': 'Channel2', 'quantity': 49}, {'attribute': 'ATTRIB', 'producct': 'productA', 'saleDate': '14/Dec/2020', '_id': ObjectId('5dc3e3d414abcebce50f4ef8'), 'channel': 'Channel2', 'quantity': 50}, {'attribute': 'ATTRIB', 'producct': 'productA', 'saleDate': '21/Dec/2020', '_id': ObjectId('5dc3e3d414abcebce50f4ef9'), 'channel': 'Channel2', 'quantity': 51}, {'attribute': 'ATTRIB', 'producct': 'productA', 'saleDate': '28/Dec/2020', '_id': ObjectId('5dc3e3d414abcebce50f4efa'), 'channel': 'Channel2', 'quantity': 52}]\n",
      "----Inserted x.inserted_ids elements in the  collection------------------------------------------------------\n"
     ]
    }
   ],
   "source": [
    "import pandas as pd\n",
    "from datetime import datetime, timedelta\n",
    "import calendar\n",
    "import datetime\n",
    "from pymongo import MongoClient\n",
    "#############################################################\n",
    "#This is a simple dummy program created to learn more about python based iteration and handling\n",
    "# of data. Does not have any PII business data or business logic copied.\n",
    "#############################################################\n",
    "#Establisth MongoDB connection\n",
    "client = MongoClient('mongodb://localhost:27017/')\n",
    "db = client.Forecast\n",
    "\n",
    "forecasts = db.salesforecasts\n",
    "\n",
    "#Delete all existing Data in Forecast Collection\n",
    "#x = forecasts.delete_many({})\n",
    "#print(x.deleted_count, \" documents deleted.\")\n",
    "\n",
    "#############################################################\n",
    "# This function calculates all the week start dates of an year\n",
    "#futureYearWeekStarts = []\n",
    "futureYearWeekStarts = ['06/Jan/2020', '13/Jan/2020', '20/Jan/2020', '27/Jan/2020', '03/Feb/2020', '10/Feb/2020', '17/Feb/2020', '24/Feb/2020', '02/Mar/2020', '09/Mar/2020', '16/Mar/2020', '23/Mar/2020', '30/Mar/2020', '06/Apr/2020', '13/Apr/2020', '20/Apr/2020', '27/Apr/2020', '04/May/2020', '11/May/2020', '18/May/2020', '25/May/2020', '01/Jun/2020', '08/Jun/2020', '15/Jun/2020', '22/Jun/2020', '29/Jun/2020', '06/Jul/2020', '13/Jul/2020', '20/Jul/2020', '27/Jul/2020', '03/Aug/2020', '10/Aug/2020', '17/Aug/2020', '24/Aug/2020', '31/Aug/2020', '07/Sep/2020', '14/Sep/2020', '21/Sep/2020', '28/Sep/2020', '05/Oct/2020', '12/Oct/2020', '19/Oct/2020', '26/Oct/2020', '02/Nov/2020', '09/Nov/2020', '16/Nov/2020', '23/Nov/2020', '30/Nov/2020', '07/Dec/2020', '14/Dec/2020', '21/Dec/2020', '28/Dec/2020']\n",
    "#def get_start_and_end_date_from_calendar_week(year, calendar_week):       \n",
    "#    monday = datetime.datetime.strptime(f'{year}-{calendar_week}-1', \"%Y-%W-%w\").date()\n",
    "#    return monday.strftime('%d/%b/%Y')\n",
    "\n",
    "#for x in range(1, 53):\n",
    "#   futureYearWeekStarts.append(get_start_and_end_date_from_calendar_week(2020, x))\n",
    "\n",
    "#print(futureYearWeekStarts)\n",
    "#############################################################\n",
    "# This function creates individual docs to be inserted in the collection\n",
    "def merge(list1, list2, prod, chn, attr): \n",
    "    merged_list = []  \n",
    "    for i in range(0, len(list1)):\n",
    "        doc_obj = {\"channel\": chn,\n",
    "                 \"saleDate\": list1[i],\n",
    "                 \"producct\": prod,\n",
    "                 \"attribute\": attr,\n",
    "                 \"quantity\": list2[i]}\n",
    "        merged_list.append(doc_obj)  \n",
    "    return merged_list \n",
    "\n",
    "#############################################################\n",
    "\n",
    "data = {\n",
    "        'channel': ['Channel1', 'Channel1', 'Channel1', 'Channel2', 'Channel2'], \n",
    "        'producct': ['productA', 'productB', 'productA', 'productA', 'productA'], \n",
    "        'attribute': ['NET', 'NET', 'NET', 'NET', 'otherd'],\n",
    "        'quantity': [1, 2, 3, 4, 5]\n",
    "       }\n",
    "\n",
    "df = pd.DataFrame(data)\n",
    "\n",
    "#Find unique channels\n",
    "uniquechannels = df['channel'].unique()\n",
    "\n",
    "#Iterating over unique channels\n",
    "for i in uniquechannels: \n",
    "    \n",
    "    #Get data for every unique channels \n",
    "    on_channel = df[df['channel'] == i]\n",
    "    \n",
    "    #Find unique products for each channel\n",
    "    uniqueproducts = on_channel.producct.unique()\n",
    "    \n",
    "    #Iterating over every unique product for a specific channel\n",
    "    for j in uniqueproducts:\n",
    "        \n",
    "        #Get data for every unique product for a specific channel\n",
    "        on_channel_and_product = on_channel[on_channel['producct'] == j]\n",
    "        \n",
    "        #Only select attribute = NET since that would be used for ARIMA calculation\n",
    "        on_channel_and_product_attribute = on_channel_and_product[on_channel_and_product['attribute'] == 'NET']\n",
    "        #print(on_channel_and_product_attribute)\n",
    "        \n",
    "        #This is a dummy prediction\n",
    "        predictions = [1, 2, 3, 4, 5, 6, 7, 8, 9, 10, 11, 12, 13, 14, 15, 16, 17, 18, 19, 20, 21, 22, 23, 24, 25, 26, \n",
    "                         27, 28, 29, 30, 31, 32, 33, 34, 35, 36, 37, 38, 39, 40, 41, 42, 43, 44, 45, 46, 47, 48, 49, 50, 51, 52 ]\n",
    "        \n",
    "        merged_forecast = merge(futureYearWeekStarts, predictions, j, i, 'ATTRIB')\n",
    "        \n",
    "        x = forecasts.insert_many(merged_forecast)\n",
    "        print(merged_forecast)\n",
    "        print('----Inserted x.inserted_ids elements in the  collection------------------------------------------------------')\n",
    "        "
   ]
  },
  {
   "cell_type": "code",
   "execution_count": 6,
   "metadata": {},
   "outputs": [
    {
     "name": "stdout",
     "output_type": "stream",
     "text": [
      "2020-01-06 00:00:00\n"
     ]
    },
    {
     "data": {
      "text/plain": [
       "<pymongo.results.InsertOneResult at 0x10fd8a3f8>"
      ]
     },
     "execution_count": 6,
     "metadata": {},
     "output_type": "execute_result"
    }
   ],
   "source": [
    "import pandas as pd\n",
    "from datetime import datetime, timedelta\n",
    "import calendar\n",
    "import datetime\n",
    "from pymongo import MongoClient\n",
    "#############################################################\n",
    "#This is a simple dummy program created to learn more about python based iteration and handling\n",
    "# of data. Does not have any PII business data or business logic copied.\n",
    "#############################################################\n",
    "#Establisth MongoDB connection\n",
    "client = MongoClient('mongodb://localhost:27017/')\n",
    "db = client.Forecast\n",
    "\n",
    "saleDate = date_time_obj = datetime.datetime.strptime('06/Jan/2020', '%d/%b/%Y')\n",
    "print(saleDate)\n",
    "\n",
    "forecasts = db.salesforecasts\n",
    "\n",
    "forecasts.insert_one({'attribute': 'ATTRIB', 'producct': 'productA', 'saleDate': saleDate,'channel': 'Channel1', 'quantity': 1})\n",
    "        "
   ]
  },
  {
   "cell_type": "code",
   "execution_count": null,
   "metadata": {},
   "outputs": [],
   "source": []
  }
 ],
 "metadata": {
  "kernelspec": {
   "display_name": "Python 2",
   "language": "python",
   "name": "python2"
  },
  "language_info": {
   "codemirror_mode": {
    "name": "ipython",
    "version": 2
   },
   "file_extension": ".py",
   "mimetype": "text/x-python",
   "name": "python",
   "nbconvert_exporter": "python",
   "pygments_lexer": "ipython2",
   "version": "2.7.15"
  }
 },
 "nbformat": 4,
 "nbformat_minor": 2
}
